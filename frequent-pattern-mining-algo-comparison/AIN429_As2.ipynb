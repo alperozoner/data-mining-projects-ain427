{
 "cells": [
  {
   "cell_type": "code",
   "execution_count": 2,
   "id": "7dbc5455-d907-42b6-bda2-0e172c9cefc4",
   "metadata": {},
   "outputs": [],
   "source": [
    "#importing libraries\n",
    "import pandas as pd \n",
    "import numpy as np\n",
    "import itertools\n",
    "import json\n",
    "import matplotlib.pyplot as plt\n",
    "%matplotlib inline\n",
    "\n",
    "import seaborn as sns\n",
    "# sns.frozenset(style=\"white\")\n",
    "\n",
    "import warnings\n",
    "warnings.filterwarnings(\"ignore\")\n",
    "\n",
    "# !pip install mlxtend\n",
    "import mlxtend\n",
    "from mlxtend.frequent_patterns import apriori"
   ]
  },
  {
   "cell_type": "code",
   "execution_count": 3,
   "id": "955009e7-6ce3-41a8-8571-721cbfb98fab",
   "metadata": {},
   "outputs": [
    {
     "name": "stdout",
     "output_type": "stream",
     "text": [
      "38765\n"
     ]
    },
    {
     "data": {
      "text/html": [
       "<div>\n",
       "<style scoped>\n",
       "    .dataframe tbody tr th:only-of-type {\n",
       "        vertical-align: middle;\n",
       "    }\n",
       "\n",
       "    .dataframe tbody tr th {\n",
       "        vertical-align: top;\n",
       "    }\n",
       "\n",
       "    .dataframe thead th {\n",
       "        text-align: right;\n",
       "    }\n",
       "</style>\n",
       "<table border=\"1\" class=\"dataframe\">\n",
       "  <thead>\n",
       "    <tr style=\"text-align: right;\">\n",
       "      <th></th>\n",
       "      <th>Member_no</th>\n",
       "      <th>Date</th>\n",
       "      <th>item</th>\n",
       "    </tr>\n",
       "  </thead>\n",
       "  <tbody>\n",
       "    <tr>\n",
       "      <th>0</th>\n",
       "      <td>1808</td>\n",
       "      <td>21-07-2015</td>\n",
       "      <td>tropical fruit</td>\n",
       "    </tr>\n",
       "    <tr>\n",
       "      <th>1</th>\n",
       "      <td>2552</td>\n",
       "      <td>05-01-2015</td>\n",
       "      <td>whole milk</td>\n",
       "    </tr>\n",
       "    <tr>\n",
       "      <th>2</th>\n",
       "      <td>2300</td>\n",
       "      <td>19-09-2015</td>\n",
       "      <td>pip fruit</td>\n",
       "    </tr>\n",
       "    <tr>\n",
       "      <th>3</th>\n",
       "      <td>1187</td>\n",
       "      <td>12-12-2015</td>\n",
       "      <td>other vegetables</td>\n",
       "    </tr>\n",
       "    <tr>\n",
       "      <th>4</th>\n",
       "      <td>3037</td>\n",
       "      <td>01-02-2015</td>\n",
       "      <td>whole milk</td>\n",
       "    </tr>\n",
       "    <tr>\n",
       "      <th>...</th>\n",
       "      <td>...</td>\n",
       "      <td>...</td>\n",
       "      <td>...</td>\n",
       "    </tr>\n",
       "    <tr>\n",
       "      <th>38760</th>\n",
       "      <td>4471</td>\n",
       "      <td>08-10-2014</td>\n",
       "      <td>sliced cheese</td>\n",
       "    </tr>\n",
       "    <tr>\n",
       "      <th>38761</th>\n",
       "      <td>2022</td>\n",
       "      <td>23-02-2014</td>\n",
       "      <td>candy</td>\n",
       "    </tr>\n",
       "    <tr>\n",
       "      <th>38762</th>\n",
       "      <td>1097</td>\n",
       "      <td>16-04-2014</td>\n",
       "      <td>cake bar</td>\n",
       "    </tr>\n",
       "    <tr>\n",
       "      <th>38763</th>\n",
       "      <td>1510</td>\n",
       "      <td>03-12-2014</td>\n",
       "      <td>fruit/vegetable juice</td>\n",
       "    </tr>\n",
       "    <tr>\n",
       "      <th>38764</th>\n",
       "      <td>1521</td>\n",
       "      <td>26-12-2014</td>\n",
       "      <td>cat food</td>\n",
       "    </tr>\n",
       "  </tbody>\n",
       "</table>\n",
       "<p>38765 rows × 3 columns</p>\n",
       "</div>"
      ],
      "text/plain": [
       "       Member_no        Date                   item\n",
       "0           1808  21-07-2015         tropical fruit\n",
       "1           2552  05-01-2015             whole milk\n",
       "2           2300  19-09-2015              pip fruit\n",
       "3           1187  12-12-2015       other vegetables\n",
       "4           3037  01-02-2015             whole milk\n",
       "...          ...         ...                    ...\n",
       "38760       4471  08-10-2014          sliced cheese\n",
       "38761       2022  23-02-2014                  candy\n",
       "38762       1097  16-04-2014               cake bar\n",
       "38763       1510  03-12-2014  fruit/vegetable juice\n",
       "38764       1521  26-12-2014               cat food\n",
       "\n",
       "[38765 rows x 3 columns]"
      ]
     },
     "execution_count": 3,
     "metadata": {},
     "output_type": "execute_result"
    }
   ],
   "source": [
    "df = pd.read_csv(\"data.csv\", delimiter = \",\")\n",
    "print(len(df))\n",
    "df"
   ]
  },
  {
   "cell_type": "markdown",
   "id": "6ff5910d-8011-4f50-b28f-2fc32a8f7118",
   "metadata": {},
   "source": [
    "# 1. Data frozenset Overview:"
   ]
  },
  {
   "cell_type": "markdown",
   "id": "1466cab4-334d-4884-ac11-04b23989c6d8",
   "metadata": {
    "tags": []
   },
   "source": [
    "## Attribute Information:\n"
   ]
  },
  {
   "cell_type": "markdown",
   "id": "32ba7086-29ab-40b7-bde3-5465a82d2bcf",
   "metadata": {
    "tags": []
   },
   "source": [
    "# 2. Data Analysis and Summarization Before Preprocess"
   ]
  },
  {
   "cell_type": "markdown",
   "id": "ba158af8-9c26-4fd8-acac-8dba4d5c1c5f",
   "metadata": {},
   "source": [
    "First off, let's check the datatype of each column to see if there are any non-numeric columns we should exclude for our pre-Preprocess Analysis:"
   ]
  },
  {
   "cell_type": "code",
   "execution_count": 4,
   "id": "8056f0ba-8c12-4dad-b48c-ede2ff6a082c",
   "metadata": {},
   "outputs": [
    {
     "data": {
      "text/plain": [
       "Member_no     int64\n",
       "Date         object\n",
       "item         object\n",
       "dtype: object"
      ]
     },
     "execution_count": 4,
     "metadata": {},
     "output_type": "execute_result"
    }
   ],
   "source": [
    "df.dtypes"
   ]
  },
  {
   "cell_type": "code",
   "execution_count": 5,
   "id": "475aacc7-ef3d-4caa-ac2d-5f351c24c857",
   "metadata": {},
   "outputs": [
    {
     "data": {
      "text/plain": [
       "Member_no    0\n",
       "Date         0\n",
       "item         0\n",
       "dtype: int64"
      ]
     },
     "execution_count": 5,
     "metadata": {},
     "output_type": "execute_result"
    }
   ],
   "source": [
    "df.isna().sum()"
   ]
  },
  {
   "cell_type": "markdown",
   "id": "8e0bf8b3-625d-4074-a0a4-62cf4e8b4c52",
   "metadata": {
    "tags": []
   },
   "source": [
    "# 3. Data cleaning"
   ]
  },
  {
   "cell_type": "markdown",
   "id": "668f25c5-5f17-41cf-85b9-ea9ec5d4a3ff",
   "metadata": {},
   "source": [
    "## 1. Identify outliers and smooth out noisy data:"
   ]
  },
  {
   "cell_type": "markdown",
   "id": "951220cc-7a0a-40e0-b202-fb8b46fe96dd",
   "metadata": {},
   "source": [
    "Removing the outliers that are outside the range (Q1 - 1.5 * IQR, Q3 + 1.5 * IQR):"
   ]
  },
  {
   "cell_type": "code",
   "execution_count": 6,
   "id": "2dc05326-ca52-4eec-8c80-3a166cfe8e74",
   "metadata": {},
   "outputs": [],
   "source": [
    "# Calculate quantiles and IQR\n",
    "cols = df.columns\n",
    "Q1 = df[cols].quantile(0.25) # Same as np.percentile but maps (0,1) and not (0,100)\n",
    "Q3 = df[cols].quantile(0.75)\n",
    "IQR = Q3 - Q1\n",
    "\n",
    "# Return a boolean array of the rows with (any) non-outlier column values\n",
    "condition = ~((df[cols] < (Q1 - 1.5 * IQR)) | (df[cols] > (Q3 + 1.5 * IQR))).any(axis=1)\n",
    "\n",
    "# Filter our dataframe based on condition\n",
    "df = df[condition]"
   ]
  },
  {
   "cell_type": "code",
   "execution_count": 7,
   "id": "ed3edcd3-ceb7-4e6a-84b8-1e49027f1d26",
   "metadata": {},
   "outputs": [],
   "source": [
    "df = df.sort_values(by=[\"Member_no\"])"
   ]
  },
  {
   "cell_type": "code",
   "execution_count": 8,
   "id": "a12e9e55-562b-441d-a756-e2dfac158caa",
   "metadata": {},
   "outputs": [
    {
     "data": {
      "text/plain": [
       "1629                    soda\n",
       "13331             whole milk\n",
       "8395              whole milk\n",
       "4843                 sausage\n",
       "17778     pickled vegetables\n",
       "2047             canned beer\n",
       "24544                 yogurt\n",
       "18196        misc. beverages\n",
       "32851            salty snack\n",
       "6388                 sausage\n",
       "20992    semi-finished bread\n",
       "22537       hygiene articles\n",
       "29480                 pastry\n",
       "Name: item, dtype: object"
      ]
     },
     "execution_count": 8,
     "metadata": {},
     "output_type": "execute_result"
    }
   ],
   "source": [
    "user_items = df[(df[\"Member_no\"] == 1000)][\"item\"]\n",
    "user_items"
   ]
  },
  {
   "cell_type": "markdown",
   "id": "4a058621-4c2f-4635-a6b7-b847b60882d2",
   "metadata": {},
   "source": [
    "Create an empty dict for all users before filling the dicts with bought items."
   ]
  },
  {
   "cell_type": "code",
   "execution_count": 9,
   "id": "812bf700-26b8-43cc-875a-ce0bba836b2a",
   "metadata": {},
   "outputs": [],
   "source": [
    "shoppingCartDict = dict.fromkeys(df[\"Member_no\"].unique(),None)"
   ]
  },
  {
   "cell_type": "code",
   "execution_count": 10,
   "id": "42ed3f04-be63-4a9e-9499-f6e47a6846df",
   "metadata": {},
   "outputs": [],
   "source": [
    "for member_no in df[\"Member_no\"].unique(): \n",
    "    user_items = df[(df[\"Member_no\"] == member_no)][\"item\"]\n",
    "    for item in user_items:\n",
    "        if (shoppingCartDict[member_no] == None):\n",
    "            shoppingCart = {}\n",
    "        else :\n",
    "            shoppingCart = shoppingCartDict[member_no]\n",
    "\n",
    "        try:\n",
    "            count  = shoppingCart[item]\n",
    "            count += 1\n",
    "            shoppingCart.update( {item : count} )\n",
    "        except:\n",
    "            shoppingCart[item] = 1\n",
    "        shoppingCartDict[member_no] = shoppingCart"
   ]
  },
  {
   "cell_type": "markdown",
   "id": "d3eb9782-1e94-48eb-ae9a-cf956db74e1a",
   "metadata": {},
   "source": [
    "def calculateSupport (shoppingCartDict, item_list):\n",
    "    search_space = len({member_no:cart for (member_no,cart) in shoppingCartDict.items() \n",
    "              if frozenset(item_list) <= frozenset(cart)})\n",
    "    overall_space = len(shoppingCartDict)\n",
    "    return search_space / overall_space"
   ]
  },
  {
   "cell_type": "code",
   "execution_count": 11,
   "id": "4b1dfc5b-8909-4f79-846b-2be11420b339",
   "metadata": {},
   "outputs": [],
   "source": [
    "def calculateSupport (shoppingCartDict, item_list):\n",
    "    search_space = 0\n",
    "    for cart in shoppingCartDict.values():\n",
    "        if (len( set(cart) | set(item_list) ) == len(set(cart)) ):\n",
    "            search_space += 1\n",
    "    overall_space = len(shoppingCartDict)\n",
    "    return search_space / overall_space"
   ]
  },
  {
   "cell_type": "code",
   "execution_count": 34,
   "id": "e9f5ac2c-7f6b-422f-bd5a-f675232bf35b",
   "metadata": {},
   "outputs": [],
   "source": [
    "def combinationsWithIntersection (temp_n, current_size):\n",
    "    output_dict = {}\n",
    "    keys = list(temp_n)\n",
    "    for i in range(len(temp_n)):\n",
    "        for j in range (i+1,len(temp_n)):\n",
    "            if (len(union := ({keys[i]} | {keys[j]}) ) == current_size + 1):\n",
    "                output_dict[str(union)] = None\n",
    "    return output_dict"
   ]
  },
  {
   "cell_type": "code",
   "execution_count": 13,
   "id": "5954e8c3-d04c-492b-bd90-3989e803d4ed",
   "metadata": {},
   "outputs": [],
   "source": [
    "def aprioi (shoppingCartDict, minsup = 0.01):\n",
    "    temp_n = dict.fromkeys(df[\"item\"].unique(), None)\n",
    "    frozenset_n = dict.fromkeys(df[\"item\"].unique(), None)\n",
    "    for i in range(1, len(temp_n.keys())):\n",
    "        #temp_n = frozenset_n   \n",
    "        if i == 1:\n",
    "            frozenset_n = dict.fromkeys(df[\"item\"].unique(), None)\n",
    "            for item in dict.fromkeys(df[\"item\"].unique()).keys():\n",
    "                if ((sup := calculateSupport (shoppingCartDict,[item])) >= minsup):\n",
    "                    frozenset_n[item] = sup\n",
    "                else :\n",
    "                    del frozenset_n[item]\n",
    "        else :\n",
    "            # frozenset_n = dict.fromkeys(itertools.combinations(temp_n.keys(), i), None)\n",
    "            frozenset_n = combinationsWithIntersection (temp_n, i)\n",
    "            for item in combinationsWithIntersection (temp_n, i).keys():\n",
    "                if ((sup := calculateSupport (shoppingCartDict,(item))) >= minsup):\n",
    "                    frozenset_n[item] = sup\n",
    "                else :\n",
    "                    del frozenset_n[item]\n",
    "        if frozenset_n == {}:\n",
    "            return temp_n\n",
    "        else :\n",
    "            temp_n = temp_n | frozenset_n\n",
    "        # frozenset_n = {item:support for (item,support) in frozenset_n.items() if support >= 0.01}"
   ]
  },
  {
   "cell_type": "code",
   "execution_count": null,
   "id": "aaf687d4-6a3f-4a8b-b72c-1f1e4b9752b3",
   "metadata": {},
   "outputs": [],
   "source": [
    "aprioi (shoppingCartDict, 0.01)"
   ]
  },
  {
   "cell_type": "code",
   "execution_count": 21,
   "id": "facc4472-10c9-4df9-a2a8-857029f0044e",
   "metadata": {},
   "outputs": [
    {
     "data": {
      "text/plain": [
       "116"
      ]
     },
     "execution_count": 21,
     "metadata": {},
     "output_type": "execute_result"
    }
   ],
   "source": [
    "frozenset_1 = dict.fromkeys(df[\"item\"].unique(), None)\n",
    "for item in frozenset_1.keys():\n",
    "    frozenset_1[item] = calculateSupport (shoppingCartDict,[item])\n",
    "frozenset_1 = {item:support for (item,support) in frozenset_1.items() if support >= 0.01}\n",
    "len(frozenset_1)"
   ]
  },
  {
   "cell_type": "code",
   "execution_count": 37,
   "id": "a65a4b4b-9ea2-4243-bb12-dbcc4d6613d1",
   "metadata": {},
   "outputs": [
    {
     "data": {
      "text/plain": [
       "{}"
      ]
     },
     "execution_count": 37,
     "metadata": {},
     "output_type": "execute_result"
    }
   ],
   "source": [
    "frozenset_1 = dict.fromkeys(df[\"item\"].unique(), None)\n",
    "frozenset_1\n",
    "frozenset_2 = combinationsWithIntersection (frozenset_1, 1)\n",
    "frozenset_2\n",
    "frozenset_3 = combinationsWithIntersection (frozenset_2, 2)\n",
    "frozenset_3"
   ]
  },
  {
   "cell_type": "code",
   "execution_count": 15,
   "id": "96df606f-ebf6-40a0-9757-6cd7e01ce40f",
   "metadata": {},
   "outputs": [
    {
     "ename": "TypeError",
     "evalue": "'frozenset' object is not subscriptable",
     "output_type": "error",
     "traceback": [
      "\u001b[1;31m---------------------------------------------------------------------------\u001b[0m",
      "\u001b[1;31mTypeError\u001b[0m                                 Traceback (most recent call last)",
      "Input \u001b[1;32mIn [27]\u001b[0m, in \u001b[0;36m<cell line: 2>\u001b[1;34m()\u001b[0m\n\u001b[0;32m      1\u001b[0m \u001b[38;5;66;03m#frozenset_2 = dict.fromkeys(itertools.combinations(frozenset_1.keys(), 2), None)\u001b[39;00m\n\u001b[1;32m----> 2\u001b[0m frozenset_2 \u001b[38;5;241m=\u001b[39m \u001b[43mcombinationsWithIntersection\u001b[49m\u001b[43m \u001b[49m\u001b[43m(\u001b[49m\u001b[38;5;28;43mfrozenset\u001b[39;49m\u001b[43m(\u001b[49m\u001b[43mfrozenset_1\u001b[49m\u001b[38;5;241;43m.\u001b[39;49m\u001b[43mkeys\u001b[49m\u001b[43m(\u001b[49m\u001b[43m)\u001b[49m\u001b[43m)\u001b[49m\u001b[43m,\u001b[49m\u001b[43m \u001b[49m\u001b[38;5;241;43m1\u001b[39;49m\u001b[43m)\u001b[49m\n\u001b[0;32m      3\u001b[0m \u001b[38;5;28;01mfor\u001b[39;00m item \u001b[38;5;129;01min\u001b[39;00m frozenset_2\u001b[38;5;241m.\u001b[39mkeys():\n\u001b[0;32m      4\u001b[0m     frozenset_2[item] \u001b[38;5;241m=\u001b[39m calculateSupport (shoppingCartDict,(item))\n",
      "Input \u001b[1;32mIn [25]\u001b[0m, in \u001b[0;36mcombinationsWithIntersection\u001b[1;34m(temp_n, current_size)\u001b[0m\n\u001b[0;32m      4\u001b[0m \u001b[38;5;28;01mfor\u001b[39;00m i \u001b[38;5;129;01min\u001b[39;00m \u001b[38;5;28mrange\u001b[39m(\u001b[38;5;28mlen\u001b[39m(temp_n)):\n\u001b[0;32m      5\u001b[0m     \u001b[38;5;28;01mfor\u001b[39;00m j \u001b[38;5;129;01min\u001b[39;00m \u001b[38;5;28mrange\u001b[39m (i\u001b[38;5;241m+\u001b[39m\u001b[38;5;241m1\u001b[39m,\u001b[38;5;28mlen\u001b[39m(temp_n)):\n\u001b[1;32m----> 6\u001b[0m         \u001b[38;5;28;01mif\u001b[39;00m (\u001b[38;5;28mlen\u001b[39m(union \u001b[38;5;241m:=\u001b[39m ({\u001b[43mtemp_n\u001b[49m\u001b[43m[\u001b[49m\u001b[43mkeys\u001b[49m\u001b[43m[\u001b[49m\u001b[43mi\u001b[49m\u001b[43m]\u001b[49m\u001b[43m]\u001b[49m} \u001b[38;5;241m|\u001b[39m {temp_n[keys[j]]}) ) \u001b[38;5;241m==\u001b[39m current_size \u001b[38;5;241m+\u001b[39m \u001b[38;5;241m1\u001b[39m):\n\u001b[0;32m      7\u001b[0m             output_dict[union] \u001b[38;5;241m=\u001b[39m \u001b[38;5;28;01mNone\u001b[39;00m\n\u001b[0;32m      8\u001b[0m \u001b[38;5;28;01mreturn\u001b[39;00m output_dict\n",
      "\u001b[1;31mTypeError\u001b[0m: 'frozenset' object is not subscriptable"
     ]
    }
   ],
   "source": [
    "#frozenset_2 = dict.fromkeys(itertools.combinations(frozenset_1.keys(), 2), None)\n",
    "frozenset_2 = combinationsWithIntersection (frozenset(frozenset_1.keys()), 1)\n",
    "for item in frozenset_2.keys():\n",
    "    frozenset_2[item] = calculateSupport (shoppingCartDict,(item))\n",
    "frozenset_2 = {item:support for (item,support) in frozenset_2.items() if support >= 0.01}\n",
    "len(frozenset_2)"
   ]
  },
  {
   "cell_type": "code",
   "execution_count": null,
   "id": "040ec7cd-c998-4643-a9df-6329567bf69f",
   "metadata": {},
   "outputs": [],
   "source": [
    "#frozenset_3 = dict.fromkeys(itertools.combinations(frozenset_2.keys(), 3), None)\n",
    "frozenset_2 = combinationsWithIntersection (frozenset_2.keys(), 2)\n",
    "for item in frozenset_3.keys():\n",
    "    frozenset_3[item] = calculateSupport (shoppingCartDict,(item))\n",
    "frozenset_3 = {item:support for (item,support) in frozenset_3.items() if support >= 0.01}\n",
    "len(frozenset_3)"
   ]
  },
  {
   "cell_type": "markdown",
   "id": "1102de3b-10e8-4d29-89be-9a1bb349f453",
   "metadata": {},
   "source": [
    "#### "
   ]
  }
 ],
 "metadata": {
  "kernelspec": {
   "display_name": "AIN311",
   "language": "python",
   "name": "ain311"
  },
  "language_info": {
   "codemirror_mode": {
    "name": "ipython",
    "version": 3
   },
   "file_extension": ".py",
   "mimetype": "text/x-python",
   "name": "python",
   "nbconvert_exporter": "python",
   "pygments_lexer": "ipython3",
   "version": "3.10.6"
  }
 },
 "nbformat": 4,
 "nbformat_minor": 5
}
