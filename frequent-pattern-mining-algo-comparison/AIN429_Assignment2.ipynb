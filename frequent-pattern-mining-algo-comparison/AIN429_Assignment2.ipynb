{
 "cells": [
  {
   "cell_type": "code",
   "execution_count": 1,
   "id": "2ba2d730-2cee-4ac4-bccc-49a8a6d21914",
   "metadata": {},
   "outputs": [],
   "source": [
    "from mlxtend.preprocessing import TransactionEncoder\n",
    "from mlxtend.frequent_patterns import fpgrowth\n",
    "from mlxtend.frequent_patterns import apriori\n",
    "import matplotlib.pyplot as plt\n",
    "import pandas as pd\n",
    "import warnings\n",
    "import tracemalloc\n",
    "import time\n",
    "warnings.filterwarnings(\"ignore\")"
   ]
  },
  {
   "cell_type": "code",
   "execution_count": 2,
   "id": "794c26a4-7f4e-432f-8674-d87eb2c8c668",
   "metadata": {},
   "outputs": [
    {
     "data": {
      "text/html": [
       "<div>\n",
       "<style scoped>\n",
       "    .dataframe tbody tr th:only-of-type {\n",
       "        vertical-align: middle;\n",
       "    }\n",
       "\n",
       "    .dataframe tbody tr th {\n",
       "        vertical-align: top;\n",
       "    }\n",
       "\n",
       "    .dataframe thead th {\n",
       "        text-align: right;\n",
       "    }\n",
       "</style>\n",
       "<table border=\"1\" class=\"dataframe\">\n",
       "  <thead>\n",
       "    <tr style=\"text-align: right;\">\n",
       "      <th></th>\n",
       "      <th>Member_no</th>\n",
       "      <th>Date</th>\n",
       "      <th>item</th>\n",
       "    </tr>\n",
       "  </thead>\n",
       "  <tbody>\n",
       "    <tr>\n",
       "      <th>0</th>\n",
       "      <td>1808</td>\n",
       "      <td>21-07-2015</td>\n",
       "      <td>tropical fruit</td>\n",
       "    </tr>\n",
       "    <tr>\n",
       "      <th>1</th>\n",
       "      <td>2552</td>\n",
       "      <td>05-01-2015</td>\n",
       "      <td>whole milk</td>\n",
       "    </tr>\n",
       "    <tr>\n",
       "      <th>2</th>\n",
       "      <td>2300</td>\n",
       "      <td>19-09-2015</td>\n",
       "      <td>pip fruit</td>\n",
       "    </tr>\n",
       "    <tr>\n",
       "      <th>3</th>\n",
       "      <td>1187</td>\n",
       "      <td>12-12-2015</td>\n",
       "      <td>other vegetables</td>\n",
       "    </tr>\n",
       "    <tr>\n",
       "      <th>4</th>\n",
       "      <td>3037</td>\n",
       "      <td>01-02-2015</td>\n",
       "      <td>whole milk</td>\n",
       "    </tr>\n",
       "    <tr>\n",
       "      <th>...</th>\n",
       "      <td>...</td>\n",
       "      <td>...</td>\n",
       "      <td>...</td>\n",
       "    </tr>\n",
       "    <tr>\n",
       "      <th>38760</th>\n",
       "      <td>4471</td>\n",
       "      <td>08-10-2014</td>\n",
       "      <td>sliced cheese</td>\n",
       "    </tr>\n",
       "    <tr>\n",
       "      <th>38761</th>\n",
       "      <td>2022</td>\n",
       "      <td>23-02-2014</td>\n",
       "      <td>candy</td>\n",
       "    </tr>\n",
       "    <tr>\n",
       "      <th>38762</th>\n",
       "      <td>1097</td>\n",
       "      <td>16-04-2014</td>\n",
       "      <td>cake bar</td>\n",
       "    </tr>\n",
       "    <tr>\n",
       "      <th>38763</th>\n",
       "      <td>1510</td>\n",
       "      <td>03-12-2014</td>\n",
       "      <td>fruit/vegetable juice</td>\n",
       "    </tr>\n",
       "    <tr>\n",
       "      <th>38764</th>\n",
       "      <td>1521</td>\n",
       "      <td>26-12-2014</td>\n",
       "      <td>cat food</td>\n",
       "    </tr>\n",
       "  </tbody>\n",
       "</table>\n",
       "<p>38765 rows × 3 columns</p>\n",
       "</div>"
      ],
      "text/plain": [
       "       Member_no        Date                   item\n",
       "0           1808  21-07-2015         tropical fruit\n",
       "1           2552  05-01-2015             whole milk\n",
       "2           2300  19-09-2015              pip fruit\n",
       "3           1187  12-12-2015       other vegetables\n",
       "4           3037  01-02-2015             whole milk\n",
       "...          ...         ...                    ...\n",
       "38760       4471  08-10-2014          sliced cheese\n",
       "38761       2022  23-02-2014                  candy\n",
       "38762       1097  16-04-2014               cake bar\n",
       "38763       1510  03-12-2014  fruit/vegetable juice\n",
       "38764       1521  26-12-2014               cat food\n",
       "\n",
       "[38765 rows x 3 columns]"
      ]
     },
     "execution_count": 2,
     "metadata": {},
     "output_type": "execute_result"
    }
   ],
   "source": [
    "df = pd.read_csv(\"data.csv\", delimiter = \",\")\n",
    "df"
   ]
  },
  {
   "cell_type": "markdown",
   "id": "fc92cc93-1a81-4b13-8dd5-044719c481a5",
   "metadata": {
    "tags": []
   },
   "source": [
    "## 1. Data Preprocess"
   ]
  },
  {
   "cell_type": "markdown",
   "id": "33df3f8b-28cf-4bcb-a1ec-137979bb99aa",
   "metadata": {},
   "source": [
    "First off, let's check if there are any NaN values:"
   ]
  },
  {
   "cell_type": "code",
   "execution_count": 38,
   "id": "e4f40c80-5d57-4ec2-9bbc-1928eb14bfc2",
   "metadata": {},
   "outputs": [
    {
     "data": {
      "text/plain": [
       "0"
      ]
     },
     "execution_count": 38,
     "metadata": {},
     "output_type": "execute_result"
    }
   ],
   "source": [
    "df.isna().sum().sum()"
   ]
  },
  {
   "cell_type": "markdown",
   "id": "2b2fd637-9aad-4629-a140-a78acd0545be",
   "metadata": {},
   "source": [
    "There seems to be no NaN values in our dataset, which is perfect! Now, let's see how many unique members are there by analyzing the 'Member_no' column, which will also correspond to the number of \"shopping baskets\" in the upcoming parts:"
   ]
  },
  {
   "cell_type": "code",
   "execution_count": 3,
   "id": "e824a670-d0d5-48a6-9acd-4a9bf559c6c2",
   "metadata": {},
   "outputs": [
    {
     "data": {
      "text/plain": [
       "3898"
      ]
     },
     "execution_count": 3,
     "metadata": {},
     "output_type": "execute_result"
    }
   ],
   "source": [
    "len(df[\"Member_no\"].unique())"
   ]
  },
  {
   "cell_type": "markdown",
   "id": "dc24b964-a549-44bc-b54a-853fb43c1bcf",
   "metadata": {},
   "source": [
    "We loop through the dataset based on Member_no's, all the while collecting all items with the same Member_no's under the same entry in the shoppingCarts list to create our \"shopping carts\" format which will then be put to use during the implementation of corresponding algorithms in the upcoming parts."
   ]
  },
  {
   "cell_type": "code",
   "execution_count": 4,
   "id": "a887ae92-0a7b-4e47-bd17-231d77ab7e53",
   "metadata": {},
   "outputs": [],
   "source": [
    "shoppingCarts = [None] * len(df[\"Member_no\"].unique())\n",
    "for member_no in df[\"Member_no\"].unique(): \n",
    "    user_items = list(df[(df[\"Member_no\"] == member_no)][\"item\"])\n",
    "    shoppingCarts.append(user_items)  "
   ]
  },
  {
   "cell_type": "code",
   "execution_count": 5,
   "id": "e27eb325-508c-4f72-877c-8dbc23c42e88",
   "metadata": {},
   "outputs": [
    {
     "data": {
      "text/plain": [
       "3898"
      ]
     },
     "execution_count": 5,
     "metadata": {},
     "output_type": "execute_result"
    }
   ],
   "source": [
    "shoppingCarts = [i for i in shoppingCarts if i is not None]\n",
    "len(shoppingCarts)"
   ]
  },
  {
   "cell_type": "code",
   "execution_count": 6,
   "id": "aab52a3a-98f0-4021-8008-78bbc3cb2d59",
   "metadata": {},
   "outputs": [
    {
     "data": {
      "text/html": [
       "<div>\n",
       "<style scoped>\n",
       "    .dataframe tbody tr th:only-of-type {\n",
       "        vertical-align: middle;\n",
       "    }\n",
       "\n",
       "    .dataframe tbody tr th {\n",
       "        vertical-align: top;\n",
       "    }\n",
       "\n",
       "    .dataframe thead th {\n",
       "        text-align: right;\n",
       "    }\n",
       "</style>\n",
       "<table border=\"1\" class=\"dataframe\">\n",
       "  <thead>\n",
       "    <tr style=\"text-align: right;\">\n",
       "      <th></th>\n",
       "      <th>Instant food products</th>\n",
       "      <th>UHT-milk</th>\n",
       "      <th>abrasive cleaner</th>\n",
       "      <th>artif. sweetener</th>\n",
       "      <th>baby cosmetics</th>\n",
       "      <th>bags</th>\n",
       "      <th>baking powder</th>\n",
       "      <th>bathroom cleaner</th>\n",
       "      <th>beef</th>\n",
       "      <th>berries</th>\n",
       "      <th>...</th>\n",
       "      <th>turkey</th>\n",
       "      <th>vinegar</th>\n",
       "      <th>waffles</th>\n",
       "      <th>whipped/sour cream</th>\n",
       "      <th>whisky</th>\n",
       "      <th>white bread</th>\n",
       "      <th>white wine</th>\n",
       "      <th>whole milk</th>\n",
       "      <th>yogurt</th>\n",
       "      <th>zwieback</th>\n",
       "    </tr>\n",
       "  </thead>\n",
       "  <tbody>\n",
       "    <tr>\n",
       "      <th>0</th>\n",
       "      <td>False</td>\n",
       "      <td>False</td>\n",
       "      <td>False</td>\n",
       "      <td>False</td>\n",
       "      <td>False</td>\n",
       "      <td>False</td>\n",
       "      <td>False</td>\n",
       "      <td>False</td>\n",
       "      <td>False</td>\n",
       "      <td>False</td>\n",
       "      <td>...</td>\n",
       "      <td>False</td>\n",
       "      <td>False</td>\n",
       "      <td>False</td>\n",
       "      <td>False</td>\n",
       "      <td>False</td>\n",
       "      <td>False</td>\n",
       "      <td>False</td>\n",
       "      <td>True</td>\n",
       "      <td>False</td>\n",
       "      <td>False</td>\n",
       "    </tr>\n",
       "    <tr>\n",
       "      <th>1</th>\n",
       "      <td>False</td>\n",
       "      <td>False</td>\n",
       "      <td>False</td>\n",
       "      <td>False</td>\n",
       "      <td>False</td>\n",
       "      <td>False</td>\n",
       "      <td>False</td>\n",
       "      <td>False</td>\n",
       "      <td>False</td>\n",
       "      <td>False</td>\n",
       "      <td>...</td>\n",
       "      <td>False</td>\n",
       "      <td>False</td>\n",
       "      <td>False</td>\n",
       "      <td>False</td>\n",
       "      <td>False</td>\n",
       "      <td>False</td>\n",
       "      <td>False</td>\n",
       "      <td>True</td>\n",
       "      <td>False</td>\n",
       "      <td>False</td>\n",
       "    </tr>\n",
       "    <tr>\n",
       "      <th>2</th>\n",
       "      <td>False</td>\n",
       "      <td>False</td>\n",
       "      <td>False</td>\n",
       "      <td>False</td>\n",
       "      <td>False</td>\n",
       "      <td>False</td>\n",
       "      <td>False</td>\n",
       "      <td>False</td>\n",
       "      <td>False</td>\n",
       "      <td>False</td>\n",
       "      <td>...</td>\n",
       "      <td>False</td>\n",
       "      <td>False</td>\n",
       "      <td>False</td>\n",
       "      <td>False</td>\n",
       "      <td>False</td>\n",
       "      <td>False</td>\n",
       "      <td>True</td>\n",
       "      <td>False</td>\n",
       "      <td>False</td>\n",
       "      <td>False</td>\n",
       "    </tr>\n",
       "    <tr>\n",
       "      <th>3</th>\n",
       "      <td>False</td>\n",
       "      <td>False</td>\n",
       "      <td>False</td>\n",
       "      <td>False</td>\n",
       "      <td>False</td>\n",
       "      <td>False</td>\n",
       "      <td>False</td>\n",
       "      <td>False</td>\n",
       "      <td>False</td>\n",
       "      <td>False</td>\n",
       "      <td>...</td>\n",
       "      <td>False</td>\n",
       "      <td>False</td>\n",
       "      <td>False</td>\n",
       "      <td>False</td>\n",
       "      <td>False</td>\n",
       "      <td>False</td>\n",
       "      <td>False</td>\n",
       "      <td>False</td>\n",
       "      <td>False</td>\n",
       "      <td>False</td>\n",
       "    </tr>\n",
       "    <tr>\n",
       "      <th>4</th>\n",
       "      <td>False</td>\n",
       "      <td>False</td>\n",
       "      <td>False</td>\n",
       "      <td>False</td>\n",
       "      <td>False</td>\n",
       "      <td>False</td>\n",
       "      <td>False</td>\n",
       "      <td>False</td>\n",
       "      <td>False</td>\n",
       "      <td>False</td>\n",
       "      <td>...</td>\n",
       "      <td>False</td>\n",
       "      <td>False</td>\n",
       "      <td>False</td>\n",
       "      <td>False</td>\n",
       "      <td>False</td>\n",
       "      <td>True</td>\n",
       "      <td>False</td>\n",
       "      <td>True</td>\n",
       "      <td>False</td>\n",
       "      <td>False</td>\n",
       "    </tr>\n",
       "    <tr>\n",
       "      <th>...</th>\n",
       "      <td>...</td>\n",
       "      <td>...</td>\n",
       "      <td>...</td>\n",
       "      <td>...</td>\n",
       "      <td>...</td>\n",
       "      <td>...</td>\n",
       "      <td>...</td>\n",
       "      <td>...</td>\n",
       "      <td>...</td>\n",
       "      <td>...</td>\n",
       "      <td>...</td>\n",
       "      <td>...</td>\n",
       "      <td>...</td>\n",
       "      <td>...</td>\n",
       "      <td>...</td>\n",
       "      <td>...</td>\n",
       "      <td>...</td>\n",
       "      <td>...</td>\n",
       "      <td>...</td>\n",
       "      <td>...</td>\n",
       "      <td>...</td>\n",
       "    </tr>\n",
       "    <tr>\n",
       "      <th>3893</th>\n",
       "      <td>False</td>\n",
       "      <td>False</td>\n",
       "      <td>False</td>\n",
       "      <td>False</td>\n",
       "      <td>False</td>\n",
       "      <td>False</td>\n",
       "      <td>False</td>\n",
       "      <td>False</td>\n",
       "      <td>False</td>\n",
       "      <td>False</td>\n",
       "      <td>...</td>\n",
       "      <td>False</td>\n",
       "      <td>False</td>\n",
       "      <td>False</td>\n",
       "      <td>False</td>\n",
       "      <td>False</td>\n",
       "      <td>False</td>\n",
       "      <td>False</td>\n",
       "      <td>False</td>\n",
       "      <td>False</td>\n",
       "      <td>False</td>\n",
       "    </tr>\n",
       "    <tr>\n",
       "      <th>3894</th>\n",
       "      <td>False</td>\n",
       "      <td>False</td>\n",
       "      <td>False</td>\n",
       "      <td>False</td>\n",
       "      <td>False</td>\n",
       "      <td>False</td>\n",
       "      <td>False</td>\n",
       "      <td>False</td>\n",
       "      <td>False</td>\n",
       "      <td>False</td>\n",
       "      <td>...</td>\n",
       "      <td>False</td>\n",
       "      <td>False</td>\n",
       "      <td>False</td>\n",
       "      <td>False</td>\n",
       "      <td>False</td>\n",
       "      <td>False</td>\n",
       "      <td>False</td>\n",
       "      <td>False</td>\n",
       "      <td>True</td>\n",
       "      <td>False</td>\n",
       "    </tr>\n",
       "    <tr>\n",
       "      <th>3895</th>\n",
       "      <td>False</td>\n",
       "      <td>False</td>\n",
       "      <td>False</td>\n",
       "      <td>False</td>\n",
       "      <td>False</td>\n",
       "      <td>False</td>\n",
       "      <td>False</td>\n",
       "      <td>False</td>\n",
       "      <td>False</td>\n",
       "      <td>False</td>\n",
       "      <td>...</td>\n",
       "      <td>False</td>\n",
       "      <td>False</td>\n",
       "      <td>False</td>\n",
       "      <td>False</td>\n",
       "      <td>False</td>\n",
       "      <td>False</td>\n",
       "      <td>False</td>\n",
       "      <td>False</td>\n",
       "      <td>False</td>\n",
       "      <td>False</td>\n",
       "    </tr>\n",
       "    <tr>\n",
       "      <th>3896</th>\n",
       "      <td>False</td>\n",
       "      <td>False</td>\n",
       "      <td>False</td>\n",
       "      <td>False</td>\n",
       "      <td>False</td>\n",
       "      <td>False</td>\n",
       "      <td>False</td>\n",
       "      <td>False</td>\n",
       "      <td>False</td>\n",
       "      <td>False</td>\n",
       "      <td>...</td>\n",
       "      <td>False</td>\n",
       "      <td>False</td>\n",
       "      <td>False</td>\n",
       "      <td>False</td>\n",
       "      <td>False</td>\n",
       "      <td>False</td>\n",
       "      <td>False</td>\n",
       "      <td>False</td>\n",
       "      <td>False</td>\n",
       "      <td>False</td>\n",
       "    </tr>\n",
       "    <tr>\n",
       "      <th>3897</th>\n",
       "      <td>False</td>\n",
       "      <td>False</td>\n",
       "      <td>False</td>\n",
       "      <td>False</td>\n",
       "      <td>False</td>\n",
       "      <td>False</td>\n",
       "      <td>False</td>\n",
       "      <td>False</td>\n",
       "      <td>False</td>\n",
       "      <td>False</td>\n",
       "      <td>...</td>\n",
       "      <td>False</td>\n",
       "      <td>False</td>\n",
       "      <td>False</td>\n",
       "      <td>False</td>\n",
       "      <td>False</td>\n",
       "      <td>False</td>\n",
       "      <td>False</td>\n",
       "      <td>False</td>\n",
       "      <td>False</td>\n",
       "      <td>False</td>\n",
       "    </tr>\n",
       "  </tbody>\n",
       "</table>\n",
       "<p>3898 rows × 167 columns</p>\n",
       "</div>"
      ],
      "text/plain": [
       "      Instant food products  UHT-milk  abrasive cleaner  artif. sweetener  \\\n",
       "0                     False     False             False             False   \n",
       "1                     False     False             False             False   \n",
       "2                     False     False             False             False   \n",
       "3                     False     False             False             False   \n",
       "4                     False     False             False             False   \n",
       "...                     ...       ...               ...               ...   \n",
       "3893                  False     False             False             False   \n",
       "3894                  False     False             False             False   \n",
       "3895                  False     False             False             False   \n",
       "3896                  False     False             False             False   \n",
       "3897                  False     False             False             False   \n",
       "\n",
       "      baby cosmetics   bags  baking powder  bathroom cleaner   beef  berries  \\\n",
       "0              False  False          False             False  False    False   \n",
       "1              False  False          False             False  False    False   \n",
       "2              False  False          False             False  False    False   \n",
       "3              False  False          False             False  False    False   \n",
       "4              False  False          False             False  False    False   \n",
       "...              ...    ...            ...               ...    ...      ...   \n",
       "3893           False  False          False             False  False    False   \n",
       "3894           False  False          False             False  False    False   \n",
       "3895           False  False          False             False  False    False   \n",
       "3896           False  False          False             False  False    False   \n",
       "3897           False  False          False             False  False    False   \n",
       "\n",
       "      ...  turkey  vinegar  waffles  whipped/sour cream  whisky  white bread  \\\n",
       "0     ...   False    False    False               False   False        False   \n",
       "1     ...   False    False    False               False   False        False   \n",
       "2     ...   False    False    False               False   False        False   \n",
       "3     ...   False    False    False               False   False        False   \n",
       "4     ...   False    False    False               False   False         True   \n",
       "...   ...     ...      ...      ...                 ...     ...          ...   \n",
       "3893  ...   False    False    False               False   False        False   \n",
       "3894  ...   False    False    False               False   False        False   \n",
       "3895  ...   False    False    False               False   False        False   \n",
       "3896  ...   False    False    False               False   False        False   \n",
       "3897  ...   False    False    False               False   False        False   \n",
       "\n",
       "      white wine  whole milk  yogurt  zwieback  \n",
       "0          False        True   False     False  \n",
       "1          False        True   False     False  \n",
       "2           True       False   False     False  \n",
       "3          False       False   False     False  \n",
       "4          False        True   False     False  \n",
       "...          ...         ...     ...       ...  \n",
       "3893       False       False   False     False  \n",
       "3894       False       False    True     False  \n",
       "3895       False       False   False     False  \n",
       "3896       False       False   False     False  \n",
       "3897       False       False   False     False  \n",
       "\n",
       "[3898 rows x 167 columns]"
      ]
     },
     "execution_count": 6,
     "metadata": {},
     "output_type": "execute_result"
    }
   ],
   "source": [
    "te = TransactionEncoder()\n",
    "te_ary = te.fit(shoppingCarts).transform(shoppingCarts)\n",
    "df = pd.DataFrame(te_ary, columns=te.columns_)\n",
    "df"
   ]
  },
  {
   "cell_type": "markdown",
   "id": "24fd393b-1acd-4c67-8348-25f6dab32133",
   "metadata": {},
   "source": [
    "As seen above, we now have a dataFrame named 'df' created from hot-encoding the sublists in the shoppingCart list. This means that we have 3898 'shopping baskets' with a total number of possibly 167 unique items to do our frequent pattern extraction upon."
   ]
  },
  {
   "cell_type": "markdown",
   "id": "224176f3-3a30-4a02-a9de-b1d0572857e6",
   "metadata": {
    "tags": []
   },
   "source": [
    "## 2. Implementing Apriori and FP-Growth"
   ]
  },
  {
   "cell_type": "markdown",
   "id": "4ad755b5-e466-4ee3-a280-5e0341e02c28",
   "metadata": {},
   "source": [
    "The Apriori and FP-Growth algorithms used in this report are taken from the library mlxtend on http://rasbt.github.io/mlxtend/."
   ]
  },
  {
   "cell_type": "markdown",
   "id": "0d9d79df-0c09-41f5-af3f-66bdfa5374b7",
   "metadata": {},
   "source": [
    "### 2.1 Apriori"
   ]
  },
  {
   "cell_type": "code",
   "execution_count": 39,
   "id": "c3591523-b765-4e80-8859-fd690f673440",
   "metadata": {},
   "outputs": [
    {
     "name": "stdout",
     "output_type": "stream",
     "text": [
      "1.33 seconds\n"
     ]
    }
   ],
   "source": [
    "# Keeping track of ther runtime, which will be used in the next part.\n",
    "start = time.time()\n",
    "# Running Apriori with minsup = 0.01\n",
    "apriori(df, min_support=0.01,use_colnames=True)\n",
    "end = time.time()\n",
    "elapsed_time = end - start \n",
    "print(\"{:.2f}\".format(elapsed_time,2), 'seconds')"
   ]
  },
  {
   "cell_type": "markdown",
   "id": "a4c8708b-95fc-4f8f-8cd8-8aa89953d486",
   "metadata": {},
   "source": [
    "### 2.2 FP-Growth"
   ]
  },
  {
   "cell_type": "code",
   "execution_count": 40,
   "id": "42bf9a3e-e690-4696-b395-17475f3724ba",
   "metadata": {},
   "outputs": [
    {
     "name": "stdout",
     "output_type": "stream",
     "text": [
      "1.15 seconds\n"
     ]
    }
   ],
   "source": [
    "start = time.time()\n",
    "# Running FP-Growth with minsup = 0.01\n",
    "fpgrowth(df, min_support=0.01)\n",
    "end = time.time()\n",
    "elapsed_time = end - start \n",
    "print(\"{:.2f}\".format(elapsed_time,2), 'seconds')"
   ]
  },
  {
   "cell_type": "markdown",
   "id": "ef67f5d3-1d9f-4828-afd4-a8aa6d88a378",
   "metadata": {},
   "source": [
    "## 3. Performance Comparison"
   ]
  },
  {
   "cell_type": "markdown",
   "id": "33c2177e-651b-4af2-8e96-e37c0f3b0641",
   "metadata": {},
   "source": [
    "### 3.1 Time Complexity"
   ]
  },
  {
   "cell_type": "markdown",
   "id": "22c29d8c-c0eb-4ba6-b4dd-1aed2e1340fe",
   "metadata": {},
   "source": [
    "With the help of the time library, we keep track of the runtime of both algorithms to then create a plot to better see the time complexities of both algorithms side by side. For this benchmark, we decrease the _**minimum support**_ parameter to less than 0.01, down to 0.003."
   ]
  },
  {
   "cell_type": "code",
   "execution_count": 63,
   "id": "e7ae4b92-55c4-463f-a005-88eab5a8c0b0",
   "metadata": {},
   "outputs": [],
   "source": [
    "# minsup values used for the experiment:\n",
    "minsup_list = [0.04,0.02,0.01,0.005,0.004,0.003]\n",
    "apriori_times = []\n",
    "for minsup in minsup_list:\n",
    "    start = time.time()\n",
    "    apriori(df, min_support = minsup)\n",
    "    end = time.time()\n",
    "    apriori_times.append(end - start)"
   ]
  },
  {
   "cell_type": "code",
   "execution_count": 64,
   "id": "1ee6ce9c-92fc-453f-aa4b-28c6fb55ed9b",
   "metadata": {},
   "outputs": [],
   "source": [
    "fpgrowth_times = []\n",
    "for minsup in minsup_list:\n",
    "    start = time.time()\n",
    "    fpgrowth(df, min_support = minsup)\n",
    "    end = time.time()\n",
    "    fpgrowth_times.append(end - start)"
   ]
  },
  {
   "cell_type": "code",
   "execution_count": 67,
   "id": "a9f74922-1411-4275-a24c-d7136a94c44e",
   "metadata": {},
   "outputs": [
    {
     "data": {
      "image/png": "[encoded data removed]",
      "text/plain": [
       "<Figure size 640x480 with 1 Axes>"
      ]
     },
     "metadata": {},
     "output_type": "display_data"
    }
   ],
   "source": [
    "plt.plot(minsup_list, apriori_times, 'go-', label='Apriori', linewidth=2)\n",
    "plt.plot(minsup_list, fpgrowth_times, 'rs-', label='FP-Growth', linewidth=2)\n",
    "plt.xlabel('Minimum Support')\n",
    "plt.ylabel('Runtime in seconds')\n",
    "plt.legend()\n",
    "plt.show()"
   ]
  },
  {
   "cell_type": "markdown",
   "id": "313f059d-dad6-42c9-b495-4cb511e327f6",
   "metadata": {},
   "source": [
    "As can be seen in the above graph, FP-Growth algortihm vastly outperforms Apriori, having near constant runtime for minsup values that are smaller than 0.01, whereas Apriori's runtime increases exponentially up to about 55 seconds when FP-Growth has a runtime of only about 3 seconds."
   ]
  },
  {
   "cell_type": "markdown",
   "id": "13374150-e36c-4ddb-b7d0-f973db24da4d",
   "metadata": {
    "tags": []
   },
   "source": [
    "### 3.2 Space Complexity"
   ]
  },
  {
   "cell_type": "markdown",
   "id": "8bcb18cf-d590-4d64-b2d9-9c8a075d606a",
   "metadata": {},
   "source": [
    "To measure the space complexity, we used a Python library called \"tracemalloc\" which can be used to keep track about the details of the memory heap while a code block is running. Below, we run apriori and FP-Growth and record their total memory used in megabytes (Mb)."
   ]
  },
  {
   "cell_type": "code",
   "execution_count": 26,
   "id": "6d5dda1d-7360-48d4-a4d4-4db26f25f2ea",
   "metadata": {},
   "outputs": [],
   "source": [
    "minsup_list = [0.04,0.02,0.01,0.005]\n",
    "apriori_memory = []\n",
    "apriori_times = []\n",
    "for minsup in minsup_list:\n",
    "    tracemalloc.start()\n",
    "    start = time.time()\n",
    "    \n",
    "    apriori(df, min_support = minsup)\n",
    "    \n",
    "    end = time.time()\n",
    "    apriori_times.append(end - start)\n",
    "    apriori_memory.append(tracemalloc.get_tracemalloc_memory())\n",
    "    tracemalloc.stop()"
   ]
  },
  {
   "cell_type": "code",
   "execution_count": 27,
   "id": "270322f3-e3bf-4725-8596-bbee8f530ea2",
   "metadata": {},
   "outputs": [],
   "source": [
    "fpgrowth_memory = []\n",
    "fpgrowth_times = []\n",
    "for minsup in minsup_list:\n",
    "    tracemalloc.start()\n",
    "    start = time.time()\n",
    "    \n",
    "    fpgrowth(df, min_support = minsup)\n",
    "    \n",
    "    end = time.time()\n",
    "    fpgrowth_times.append(end - start)\n",
    "    fpgrowth_memory.append(tracemalloc.get_tracemalloc_memory())\n",
    "    tracemalloc.stop()"
   ]
  },
  {
   "cell_type": "code",
   "execution_count": 33,
   "id": "d4399868-5ad0-4f00-9103-f5adaba77bd5",
   "metadata": {},
   "outputs": [
    {
     "data": {
      "image/png": "[encoded data removed]",
      "text/plain": [
       "<Figure size 640x480 with 1 Axes>"
      ]
     },
     "metadata": {},
     "output_type": "display_data"
    }
   ],
   "source": [
    "plt.plot(minsup_list, apriori_memory, 'go-', label='Apriori', linewidth=2)\n",
    "plt.plot(minsup_list, fpgrowth_memory, 'rs-', label='FP-Growth', linewidth=2)\n",
    "plt.xlabel('Minimum Support')\n",
    "plt.ylabel('Memory Usage in bytes')\n",
    "plt.yscale('log')\n",
    "plt.legend()\n",
    "plt.show()"
   ]
  },
  {
   "cell_type": "markdown",
   "id": "f9729ce2-605c-4e2d-9ada-a29fdaceffde",
   "metadata": {},
   "source": [
    "As can be seen from the above graph, Apriori uses very little memory when compared to FP-Growth. While Apriori has a memory usages between 10^2 to 10^3 bytes, FP-Growth uses up around 10^7. To put that into perspective, Apriori uses **less than a kilobyte** of memory whereas FP-Growth uses **tens of megabytes** of memory."
   ]
  },
  {
   "cell_type": "markdown",
   "id": "fcbbcde2-7451-418b-9af7-ade9e799f24b",
   "metadata": {},
   "source": [
    "## Conclusion"
   ]
  },
  {
   "cell_type": "markdown",
   "id": "1789891c-bfad-4233-8077-f8e36762a251",
   "metadata": {},
   "source": [
    "All in all, interestingly enough, two algorithms lie at the two opposide ends of the spectrum both for Memory usage and Time Complexity. Apriori is slow but uses very little memory (\\~couple of Kbs) but takes a very long time (\\~50 seconds) to compute sets with very low minsup values which are less than 0.01 (0.005, 0.004, 0.003 in our experiment). On the other hand, FP-Growth is very fast, even with **minsup << 0.01**, it keeps a near-constant time of around 3 to 5 seconds, but it is very memory hungry, as it used tens of megabytes of memory, which is four orders of magnitudes higher than Apriori's memory usage. \n",
    "\n",
    "Thank you for your time, and for reading this report."
   ]
  },
  {
   "cell_type": "markdown",
   "id": "834783e2-c386-49a1-b6db-2e49413b243e",
   "metadata": {},
   "source": [
    "=END OF REPORT="
   ]
  },
  {
   "cell_type": "code",
   "execution_count": null,
   "id": "d4329c5d-3750-4ac1-bfdf-f9335d88a24b",
   "metadata": {},
   "outputs": [],
   "source": []
  }
 ],
 "metadata": {
  "kernelspec": {
   "display_name": "ain311",
   "language": "python",
   "name": "ain311"
  },
  "language_info": {
   "codemirror_mode": {
    "name": "ipython",
    "version": 3
   },
   "file_extension": ".py",
   "mimetype": "text/x-python",
   "name": "python",
   "nbconvert_exporter": "python",
   "pygments_lexer": "ipython3",
   "version": "3.10.8"
  }
 },
 "nbformat": 4,
 "nbformat_minor": 5
}
